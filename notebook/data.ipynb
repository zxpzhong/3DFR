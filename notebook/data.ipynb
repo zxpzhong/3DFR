{
 "metadata": {
  "language_info": {
   "codemirror_mode": {
    "name": "ipython",
    "version": 3
   },
   "file_extension": ".py",
   "mimetype": "text/x-python",
   "name": "python",
   "nbconvert_exporter": "python",
   "pygments_lexer": "ipython3",
   "version": "3.6.11-final"
  },
  "orig_nbformat": 2,
  "kernelspec": {
   "name": "python3",
   "display_name": "Python 3"
  }
 },
 "nbformat": 4,
 "nbformat_minor": 2,
 "cells": [
  {
   "cell_type": "code",
   "execution_count": 39,
   "metadata": {},
   "outputs": [],
   "source": [
    "import cv2\n",
    "import os\n",
    "import numpy as np\n",
    "from tqdm import tqdm"
   ]
  },
  {
   "cell_type": "code",
   "execution_count": 3,
   "metadata": {},
   "outputs": [],
   "source": [
    "src_root = '/home/data/finger_vein/LFMB-3DFB_Pictures_Seged_Rectified'\n",
    "dst_root = '/home/data/finger_vein/LFMB-3DFB_Pictures_Seged_Rectified_640_400'"
   ]
  },
  {
   "cell_type": "code",
   "execution_count": 4,
   "metadata": {},
   "outputs": [],
   "source": [
    "imgs_names = os.listdir(src_root)"
   ]
  },
  {
   "cell_type": "code",
   "execution_count": 30,
   "metadata": {},
   "outputs": [],
   "source": [
    "img = cv2.imread(os.path.join(src_root,imgs_names[0]))"
   ]
  },
  {
   "cell_type": "code",
   "execution_count": 34,
   "metadata": {},
   "outputs": [],
   "source": [
    "a = cv2.resize(img,(640,400))"
   ]
  },
  {
   "cell_type": "code",
   "execution_count": 40,
   "metadata": {},
   "outputs": [
    {
     "output_type": "stream",
     "name": "stderr",
     "text": [
      "100%|██████████| 83400/83400 [4:50:53<00:00,  4.78it/s]\n"
     ]
    }
   ],
   "source": [
    "for item in tqdm(imgs_names):\n",
    "    img = cv2.imread(os.path.join(src_root,item))\n",
    "    img_ = cv2.resize(img,(640,400))\n",
    "    cv2.imwrite(os.path.join(dst_root,item),img_)\n",
    "    # break"
   ]
  },
  {
   "cell_type": "code",
   "execution_count": null,
   "metadata": {},
   "outputs": [],
   "source": []
  },
  {
   "source": [
    "# 读取mesh"
   ],
   "cell_type": "markdown",
   "metadata": {}
  },
  {
   "cell_type": "code",
   "execution_count": 3,
   "metadata": {},
   "outputs": [],
   "source": [
    "import numpy as np\n",
    "# 根据obj文件获得mesh的顶点数据\n",
    "# 数据点的数据结构选择list而不是数组,方便后续拓展\n",
    "def read_mesh_points(obj_file_path):\n",
    "    points = []\n",
    "    # try:\n",
    "    with open(obj_file_path) as file:\n",
    "        lines = file.readlines()\n",
    "        i = 0\n",
    "        for i in range(0, len(lines)):\n",
    "            if not lines[i]:\n",
    "                break\n",
    "            strs = lines[i].split(\" \")\n",
    "            if i <= 5 and strs[0] != \"v\":  # 避免开头可能出现的信息\n",
    "                continue\n",
    "            if strs[0] == 'v':\n",
    "                cur = [float(strs[1]), float(strs[2]), float(strs[3])]\n",
    "                points.append(cur)\n",
    "            else:\n",
    "                break\n",
    "    # except Exception as e:\n",
    "    #     print(\"错误:\", e)\n",
    "    #     sys.exit(1)\n",
    "    points = np.array(points)\n",
    "    return points, i  # 这里返回的i方便后续直接定位面所在的数据，避免重复遍历\n"
   ]
  },
  {
   "cell_type": "code",
   "execution_count": 4,
   "metadata": {},
   "outputs": [
    {
     "output_type": "execute_result",
     "data": {
      "text/plain": [
       "(array([], dtype=float64), 6)"
      ]
     },
     "metadata": {},
     "execution_count": 4
    }
   ],
   "source": [
    "read_mesh_points('/home/zf/vscode/3d/DR_3DFM/data/cylinder_template_mesh/0001_2_01.obj')"
   ]
  },
  {
   "cell_type": "code",
   "execution_count": 5,
   "metadata": {},
   "outputs": [],
   "source": [
    "obj_file_path = '/home/zf/vscode/3d/DR_3DFM/data/cylinder_template_mesh/0001_2_01.obj'"
   ]
  },
  {
   "cell_type": "code",
   "execution_count": 6,
   "metadata": {},
   "outputs": [],
   "source": [
    "with open(obj_file_path) as file:\n",
    "    lines = file.readlines()"
   ]
  },
  {
   "cell_type": "code",
   "execution_count": 9,
   "metadata": {},
   "outputs": [
    {
     "output_type": "execute_result",
     "data": {
      "text/plain": [
       "'#\\n'"
      ]
     },
     "metadata": {},
     "execution_count": 9
    }
   ],
   "source": [
    "lines[1]"
   ]
  },
  {
   "cell_type": "code",
   "execution_count": null,
   "metadata": {},
   "outputs": [],
   "source": []
  }
 ]
}