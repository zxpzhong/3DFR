{
 "metadata": {
  "language_info": {
   "codemirror_mode": {
    "name": "ipython",
    "version": 3
   },
   "file_extension": ".py",
   "mimetype": "text/x-python",
   "name": "python",
   "nbconvert_exporter": "python",
   "pygments_lexer": "ipython3",
   "version": "3.6.11-final"
  },
  "orig_nbformat": 2,
  "kernelspec": {
   "name": "python3",
   "display_name": "Python 3.6.11 64-bit ('kaolin': conda)",
   "metadata": {
    "interpreter": {
     "hash": "a5593312ab51e25650935ca88ad30522998c2cd96b9450ce2306a089b22e08ef"
    }
   }
  }
 },
 "nbformat": 4,
 "nbformat_minor": 2,
 "cells": [
  {
   "cell_type": "code",
   "execution_count": 2,
   "metadata": {},
   "outputs": [],
   "source": [
    "from torch.utils.tensorboard import SummaryWriter\n",
    "import torch\n",
    "vertices_tensor = torch.as_tensor([\n",
    "    [1, 1, 1],\n",
    "    [-1, -1, 1],\n",
    "    [1, -1, -1],\n",
    "    [-1, 1, -1],\n",
    "], dtype=torch.float).unsqueeze(0)\n",
    "colors_tensor = torch.as_tensor([\n",
    "    [255, 0, 0],\n",
    "    [0, 255, 0],\n",
    "    [0, 0, 255],\n",
    "    [255, 0, 255],\n",
    "], dtype=torch.int).unsqueeze(0)\n",
    "faces_tensor = torch.as_tensor([\n",
    "    [0, 2, 3],\n",
    "    [0, 3, 1],\n",
    "    [0, 1, 2],\n",
    "    [1, 3, 2],\n",
    "], dtype=torch.int).unsqueeze(0)\n",
    "\n",
    "writer = SummaryWriter()\n",
    "writer.add_mesh('my_mesh', vertices=vertices_tensor, colors=colors_tensor, faces=faces_tensor)\n",
    "\n",
    "writer.close()"
   ]
  },
  {
   "cell_type": "code",
   "execution_count": null,
   "metadata": {},
   "outputs": [],
   "source": []
  }
 ]
}